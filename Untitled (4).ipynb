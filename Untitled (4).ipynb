{
 "cells": [
  {
   "cell_type": "code",
   "execution_count": 3,
   "metadata": {},
   "outputs": [
    {
     "name": "stdout",
     "output_type": "stream",
     "text": [
      "Collecting lyricwikia\n",
      "  Downloading https://files.pythonhosted.org/packages/f3/54/d7152d4ea9a86b4a98375cf9e940b77fbb404b67f9a8a17581b4478b6c8e/lyricwikia-0.1.11.tar.gz\n",
      "Collecting beautifulsoup4 (from lyricwikia)\n",
      "\u001b[?25l  Downloading https://files.pythonhosted.org/packages/cb/a1/c698cf319e9cfed6b17376281bd0efc6bfc8465698f54170ef60a485ab5d/beautifulsoup4-4.8.2-py3-none-any.whl (106kB)\n",
      "\u001b[K     |████████████████████████████████| 112kB 3.3MB/s eta 0:00:01\n",
      "\u001b[?25hRequirement already satisfied: requests in /srv/conda/envs/notebook/lib/python3.7/site-packages (from lyricwikia) (2.22.0)\n",
      "Requirement already satisfied: six in /srv/conda/envs/notebook/lib/python3.7/site-packages (from lyricwikia) (1.12.0)\n",
      "Collecting soupsieve>=1.2 (from beautifulsoup4->lyricwikia)\n",
      "  Downloading https://files.pythonhosted.org/packages/81/94/03c0f04471fc245d08d0a99f7946ac228ca98da4fa75796c507f61e688c2/soupsieve-1.9.5-py2.py3-none-any.whl\n",
      "Requirement already satisfied: idna<2.9,>=2.5 in /srv/conda/envs/notebook/lib/python3.7/site-packages (from requests->lyricwikia) (2.8)\n",
      "Requirement already satisfied: chardet<3.1.0,>=3.0.2 in /srv/conda/envs/notebook/lib/python3.7/site-packages (from requests->lyricwikia) (3.0.4)\n",
      "Requirement already satisfied: urllib3!=1.25.0,!=1.25.1,<1.26,>=1.21.1 in /srv/conda/envs/notebook/lib/python3.7/site-packages (from requests->lyricwikia) (1.25.3)\n",
      "Requirement already satisfied: certifi>=2017.4.17 in /srv/conda/envs/notebook/lib/python3.7/site-packages (from requests->lyricwikia) (2019.6.16)\n",
      "Building wheels for collected packages: lyricwikia\n",
      "  Building wheel for lyricwikia (setup.py) ... \u001b[?25ldone\n",
      "\u001b[?25h  Stored in directory: /home/jovyan/.cache/pip/wheels/95/24/49/e55e0f6ea66e5424d0354a0dec3d1d92ee8017b17ffff5a79f\n",
      "Successfully built lyricwikia\n",
      "Installing collected packages: soupsieve, beautifulsoup4, lyricwikia\n",
      "Successfully installed beautifulsoup4-4.8.2 lyricwikia-0.1.11 soupsieve-1.9.5\n"
     ]
    }
   ],
   "source": [
    "import sys\n",
    "import json\n",
    "import requests\n",
    "import math\n",
    "\n",
    "!{sys.executable} -m pip install lyricwikia\n",
    "\n",
    "import lyricwikia\n"
   ]
  },
  {
   "cell_type": "code",
   "execution_count": 24,
   "metadata": {},
   "outputs": [],
   "source": [
    "def get_suggested_song(original_song):\n",
    "    suggested_song = []\n",
    "    original_song_array = original_song.split(\"|\")\n",
    "    \n",
    "    for original_line in original_song_array:\n",
    "        suggested_line = get_suggested_line(original_line)\n",
    "        suggested_song.append(suggested_line)\n",
    "    return suggested_song      \n",
    "        "
   ]
  },
  {
   "cell_type": "code",
   "execution_count": 89,
   "metadata": {},
   "outputs": [
    {
     "name": "stdout",
     "output_type": "stream",
     "text": [
      "alskj djkfsdk jfk lkskdjf sdjh\n"
     ]
    }
   ],
   "source": [
    "def get_part_of_string(string):\n",
    "    string_array = string.split(\" \")\n",
    "    string_size = len(string_array)\n",
    "    \n",
    "    part_of_string_array = string_array[:math.ceil(string_size/3)]\n",
    "    part_of_string = \" \".join(part_of_string_array)\n",
    "    \n",
    "    return part_of_string"
   ]
  },
  {
   "cell_type": "code",
   "execution_count": 186,
   "metadata": {},
   "outputs": [],
   "source": [
    "def get_best_suggestion_size(phrases_array, ideal_words_size):\n",
    "    best_phrase = phrases_array[0]\n",
    "    phrase_size = len(best_phrase.split(\" \"))\n",
    "    \n",
    "    error = abs(phrase_size - ideal_words_size)\n",
    "    \n",
    "    for phrase in phrases_array:\n",
    "        phrase_size = len(phrase.split(\" \"))\n",
    "        \n",
    "        if phrase_size == ideal_words_size:\n",
    "            best_phrase = phrase\n",
    "            break\n",
    "        if abs(phrase_size - ideal_words_size) < error:\n",
    "            best_phrase = phrase\n",
    "            error = abs(phrase_size - ideal_words_size) \n",
    "    \n",
    "    return best_phrase"
   ]
  },
  {
   "cell_type": "code",
   "execution_count": 201,
   "metadata": {},
   "outputs": [],
   "source": [
    "def get_suggested_line(original_line):\n",
    "    base_url = \"http://suggestqueries.google.com/complete/search?client=firefox&q=\"\n",
    "    part_of_line = get_part_of_string(original_line)\n",
    "   \n",
    "    api_url = base_url + part_of_line  \n",
    "    headers = {'Content-Type': 'application/json'}  \n",
    "    \n",
    "    response = requests.get(api_url, headers=headers)\n",
    "    \n",
    "    if part_of_line == \"\":  #tratar 400 \n",
    "        return(\"----\")\n",
    "    \n",
    "    try:\n",
    "        json_response = json.loads(response.content.decode('utf-8'))\n",
    "    except:\n",
    "        return(original_line)\n",
    "        \n",
    "    ideal_size = len(original_line.split(\" \"))\n",
    "    suggestion = get_best_suggestion_size(json_response[1], ideal_size)\n",
    "    \n",
    "    return suggestion.capitalize()"
   ]
  },
  {
   "cell_type": "code",
   "execution_count": 187,
   "metadata": {},
   "outputs": [],
   "source": [
    "def print_suggested_song(author,song):\n",
    "    original_song = lyricwikia.get_lyrics(author, song, linesep='|')\n",
    "    suggested_song = get_suggested_song(original_song)\n",
    "    \n",
    "    for line in suggested_song:\n",
    "        print(line) "
   ]
  },
  {
   "cell_type": "code",
   "execution_count": 202,
   "metadata": {},
   "outputs": [
    {
     "name": "stdout",
     "output_type": "stream",
     "text": [
      "So lately been wondering\n",
      "Who will be in the 2020 super bowl\n",
      "When i'm older lyrics frozen\n",
      "To light the shadows on your face\n",
      "----\n",
      "If a tree falls\n",
      "And fall upon us all\n",
      "Then between the sand and stone\n",
      "Could you make it go bang bang\n",
      "----\n",
      "If i were a boy lyrics\n",
      "I'll go anywhere with you\n",
      "Way up high in the apple tree\n",
      "I'll go anywhere with you\n",
      "----\n",
      "And maybe you should sleep\n",
      "A way to build good credit is\n",
      "To watch a movie in spanish\n",
      "Through the fire and flames lyrics\n",
      "----\n",
      "If a tree falls\n",
      "And fall upon us all\n",
      "Then i hope he cheats\n",
      "Who can bring charges against the president\n",
      "----\n",
      "If i were a boy lyrics\n",
      "I'll go anywhere with you\n",
      "Way up high in the apple tree\n",
      "I'll go anywhere with you\n",
      "----\n",
      "No, run away with my heart\n",
      "Run away with me lyrics\n",
      "Run away with me lyrics\n",
      "----\n",
      "I know this much is true\n",
      "My life and the final days of hollywood\n",
      "In your eyes peter gabriel\n",
      "I'll stay with you goo goo dolls lyrics\n",
      "----\n",
      "If i were a boy lyrics\n",
      "I'll go anywhere with you\n",
      "Way up high in the apple tree\n",
      "I'll go anywhere with you\n",
      "----\n",
      "If i were a boy lyrics\n",
      "I'll go anywhere with you\n",
      "If i were a boy lyrics\n",
      "I'll go anywhere with you\n",
      "I'll go anywhere with you\n"
     ]
    }
   ],
   "source": [
    "author = \"The Calling\" \n",
    "song = \"Wherever You Will Go\"\n",
    "\n",
    "print_suggested_song(author, song)\n"
   ]
  },
  {
   "cell_type": "code",
   "execution_count": null,
   "metadata": {},
   "outputs": [],
   "source": []
  }
 ],
 "metadata": {
  "kernelspec": {
   "display_name": "Python 3",
   "language": "python",
   "name": "python3"
  },
  "language_info": {
   "codemirror_mode": {
    "name": "ipython",
    "version": 3
   },
   "file_extension": ".py",
   "mimetype": "text/x-python",
   "name": "python",
   "nbconvert_exporter": "python",
   "pygments_lexer": "ipython3",
   "version": "3.7.3"
  }
 },
 "nbformat": 4,
 "nbformat_minor": 4
}
